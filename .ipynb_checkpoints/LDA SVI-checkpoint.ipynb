{
 "cells": [
  {
   "cell_type": "code",
   "execution_count": 1,
   "metadata": {},
   "outputs": [],
   "source": [
    "%load_ext autoreload\n",
    "%autoreload 2"
   ]
  },
  {
   "cell_type": "code",
   "execution_count": 2,
   "metadata": {},
   "outputs": [],
   "source": [
    "from sklearn.datasets import fetch_20newsgroups\n",
    "from time import time"
   ]
  },
  {
   "cell_type": "code",
   "execution_count": 3,
   "metadata": {},
   "outputs": [],
   "source": [
    "n_docs = 2000\n",
    "n_words = 1000\n",
    "n_topics = 20"
   ]
  },
  {
   "cell_type": "code",
   "execution_count": 4,
   "metadata": {},
   "outputs": [
    {
     "name": "stdout",
     "output_type": "stream",
     "text": [
      "Loading dataset...\n",
      "done in 1.149s.\n"
     ]
    }
   ],
   "source": [
    "print(\"Loading dataset...\")\n",
    "t0 = time()\n",
    "dataset = fetch_20newsgroups(shuffle=True, random_state=1,\n",
    "                             remove=('headers', 'footers', 'quotes'))\n",
    "data_samples = dataset.data[:n_docs]\n",
    "print(\"done in %0.3fs.\" % (time() - t0))"
   ]
  },
  {
   "cell_type": "markdown",
   "metadata": {},
   "source": [
    "Vectorize documents and get Count Matrix\n",
    "----------------------------------------------"
   ]
  },
  {
   "cell_type": "code",
   "execution_count": 5,
   "metadata": {},
   "outputs": [],
   "source": [
    "from sklearn.feature_extraction.text import CountVectorizer"
   ]
  },
  {
   "cell_type": "code",
   "execution_count": 6,
   "metadata": {},
   "outputs": [
    {
     "name": "stdout",
     "output_type": "stream",
     "text": [
      "Extracting tf features for LDA...\n",
      "done in 0.330s.\n"
     ]
    }
   ],
   "source": [
    "# Use tf (raw term count) features for LDA.\n",
    "print(\"Extracting tf features for LDA...\")\n",
    "tf_vectorizer = CountVectorizer(max_df=0.95, min_df=2,\n",
    "                                max_features=n_words,\n",
    "                                stop_words='english')\n",
    "t0 = time()\n",
    "tf = tf_vectorizer.fit_transform(data_samples)\n",
    "print(\"done in %0.3fs.\" % (time() - t0))"
   ]
  },
  {
   "cell_type": "code",
   "execution_count": 7,
   "metadata": {},
   "outputs": [],
   "source": [
    "import numpy as np\n",
    "from scipy.sparse import find"
   ]
  },
  {
   "cell_type": "code",
   "execution_count": 8,
   "metadata": {},
   "outputs": [],
   "source": [
    "(I, J, K) = find(tf)\n",
    "\n",
    "docs_idxs = [[] for _ in range(n_docs)]\n",
    "docs_cnts = [[] for _ in range(n_docs)]\n",
    "\n",
    "for r, c, n in zip(I, J, K) :\n",
    "    docs_idxs[r].append(c)\n",
    "    docs_cnts[r].append(n)"
   ]
  },
  {
   "cell_type": "markdown",
   "metadata": {},
   "source": [
    "Initialize Parameters\n",
    "------------------------"
   ]
  },
  {
   "cell_type": "code",
   "execution_count": 9,
   "metadata": {},
   "outputs": [],
   "source": [
    "alpha = 0.1\n",
    "beta = 0.01"
   ]
  },
  {
   "cell_type": "code",
   "execution_count": 10,
   "metadata": {},
   "outputs": [],
   "source": [
    "from tqdm import tqdm_notebook\n",
    "from scipy.special import psi"
   ]
  },
  {
   "cell_type": "code",
   "execution_count": 11,
   "metadata": {},
   "outputs": [],
   "source": [
    "def update_doc(docs, lambda_zt) :\n",
    "    lambda_psi = np.exp(psi(lambda_zt) - psi(lambda_zt.sum(1))[:, None])\n",
    "    \n",
    "    lambda_hat = np.zeros((n_topics, n_words))\n",
    "    for d in docs :\n",
    "        words = docs_idxs[d]\n",
    "        cnts = docs_cnts[d]\n",
    "        \n",
    "        if len(words) > 0:\n",
    "            topic_assign = np.zeros((n_topics, len(words)))\n",
    "            gamma = np.random.gamma(100., 1/100., (n_topics))\n",
    "            e_beta =  lambda_psi[:, words] #(K, N_d)\n",
    "            \n",
    "            for i in range(100) :  \n",
    "                prev_gamma = gamma\n",
    "                e_theta = np.exp(psi(gamma) - psi(gamma.sum()))\n",
    "\n",
    "                topic_assign = e_theta[:, None] * e_beta \n",
    "                topic_assign = topic_assign / topic_assign.sum(0)\n",
    "\n",
    "                gamma = alpha + np.dot(topic_assign , cnts)\n",
    "                if np.mean(np.abs(prev_gamma - gamma)) < 0.001 :\n",
    "                    break\n",
    "\n",
    "            lambda_hat[:, words] += (topic_assign * cnts)\n",
    "\n",
    "    return lambda_hat"
   ]
  },
  {
   "cell_type": "code",
   "execution_count": 12,
   "metadata": {},
   "outputs": [],
   "source": [
    "offset = 2\n",
    "kappa = 0.75\n",
    "\n",
    "def update_lambda_zt(docs, t, lambda_zt) :\n",
    "    lr_t = (t + offset) ** (-kappa)\n",
    "    lambda_hat = update_doc(docs, lambda_zt) \n",
    "    lambda_hat = lambda_hat * n_docs/len(docs) + beta\n",
    "    lambda_zt = (1 - lr_t) * (lambda_zt) + lr_t * (lambda_hat)\n",
    "    \n",
    "    return lambda_zt\n",
    "\n",
    "def run_SVI(n_iters, bsize) :    \n",
    "    t = 0\n",
    "    lambda_zt = np.random.gamma(100., 1/100., (n_topics, n_words))\n",
    "    \n",
    "    for i in tqdm_notebook(range(n_iters)) :\n",
    "        for d in range(0, n_docs, bsize) :\n",
    "            batch = range(d, min(d+bsize, n_docs))\n",
    "            lambda_zt = update_lambda_zt(batch, t, lambda_zt)\n",
    "            t += 1\n",
    "            \n",
    "    return lambda_zt"
   ]
  },
  {
   "cell_type": "code",
   "execution_count": 13,
   "metadata": {},
   "outputs": [],
   "source": [
    "def get_top_words(word_list, phi) :\n",
    "    max_args = np.argsort(phi, axis=1)[:, -10:] \n",
    "    for t in range(n_topics) :\n",
    "        print([word_list[i] for i in max_args[t]])"
   ]
  },
  {
   "cell_type": "code",
   "execution_count": 14,
   "metadata": {},
   "outputs": [
    {
     "data": {
      "application/vnd.jupyter.widget-view+json": {
       "model_id": "56bd94e46a054042aee3eb25f5987c4f",
       "version_major": 2,
       "version_minor": 0
      },
      "text/html": [
       "<p>Failed to display Jupyter Widget of type <code>HBox</code>.</p>\n",
       "<p>\n",
       "  If you're reading this message in the Jupyter Notebook or JupyterLab Notebook, it may mean\n",
       "  that the widgets JavaScript is still loading. If this message persists, it\n",
       "  likely means that the widgets JavaScript library is either not installed or\n",
       "  not enabled. See the <a href=\"https://ipywidgets.readthedocs.io/en/stable/user_install.html\">Jupyter\n",
       "  Widgets Documentation</a> for setup instructions.\n",
       "</p>\n",
       "<p>\n",
       "  If you're reading this message in another frontend (for example, a static\n",
       "  rendering on GitHub or <a href=\"https://nbviewer.jupyter.org/\">NBViewer</a>),\n",
       "  it may mean that your frontend doesn't currently support widgets.\n",
       "</p>\n"
      ],
      "text/plain": [
       "HBox(children=(IntProgress(value=0), HTML(value='')))"
      ]
     },
     "metadata": {},
     "output_type": "display_data"
    },
    {
     "name": "stdout",
     "output_type": "stream",
     "text": [
      "\n"
     ]
    }
   ],
   "source": [
    "lambda_zt = run_SVI(100, 32)"
   ]
  },
  {
   "cell_type": "code",
   "execution_count": 15,
   "metadata": {},
   "outputs": [
    {
     "name": "stdout",
     "output_type": "stream",
     "text": [
      "['level', 'feature', 'read', 'guess', 'board', 'memory', 'try', 'post', 'speed', 'time']\n",
      "['images', 'interface', 'data', 'bit', 'video', 'pc', 'color', 'image', 'graphics', 'software']\n",
      "['win', 'scsi', 'came', 'drives', 'went', 'true', 'disk', 'hard', 'didn', 'drive']\n",
      "['sale', 'questions', 'size', 'sort', 'jews', 'points', 'ask', 'israel', 'card', '55']\n",
      "['built', 'term', 'cost', 'launch', 'orbit', 'soon', 'nasa', 'data', 'bios', 'space']\n",
      "['exactly', 'division', 'course', 'military', 'hi', 'feel', 'matter', 'reason', 'world', 'left']\n",
      "['insurance', 'guy', 'rest', 'need', 'family', 'bike', 'health', 'states', 'group', 'told']\n",
      "['phone', 'cs', 'send', 'received', 'machines', 'type', 'contact', 'mail', 'com', 'edu']\n",
      "['things', 've', 'going', 'want', 'way', 'know', 'think', 'just', 'don', 'like']\n",
      "['program', 'hiv', 'number', 'section', 'general', 'new', 'research', 'information', 'government', 'law']\n",
      "['00', '25', '14', '93', '20', '12', '15', '16', '11', '10']\n",
      "['help', 'program', 'dos', 'server', 'send', 'files', 'ftp', 'file', 'version', 'windows']\n",
      "['white', 'light', 'buy', 'price', 'started', 'new', 'remember', 'power', 'car', 'thanks']\n",
      "['religion', 'men', 'old', 'women', 'killed', 'death', 'getting', 'instead', 'hope', 'yes']\n",
      "['trying', 'really', 'children', 'far', 'fact', 'point', 'did', 'time', 'believe', 'people']\n",
      "['make', 'high', 'work', 'time', 'little', 'need', 'right', 'use', 'problem', 'good']\n",
      "['gm', 'vs', 'flyers', '26', 'st', '22', 'play', 'team', 'year', 'game']\n",
      "['christian', 'makes', 'know', 'really', 'bible', 'care', 'looking', 'jesus', 'does', 'god']\n",
      "['today', 'head', 'country', 'armenians', 'city', 'building', 'national', 'years', '000', 'said']\n",
      "['shall', 'effect', 'public', 'keys', 'clipper', 'encryption', 'quite', 'chip', 'use', 'key']\n"
     ]
    }
   ],
   "source": [
    "word_list = tf_vectorizer.get_feature_names()\n",
    "get_top_words(word_list, lambda_zt)"
   ]
  },
  {
   "cell_type": "code",
   "execution_count": null,
   "metadata": {},
   "outputs": [],
   "source": []
  }
 ],
 "metadata": {
  "kernelspec": {
   "display_name": "Python 3",
   "language": "python",
   "name": "python3"
  },
  "language_info": {
   "codemirror_mode": {
    "name": "ipython",
    "version": 3
   },
   "file_extension": ".py",
   "mimetype": "text/x-python",
   "name": "python",
   "nbconvert_exporter": "python",
   "pygments_lexer": "ipython3",
   "version": "3.6.4"
  }
 },
 "nbformat": 4,
 "nbformat_minor": 2
}
