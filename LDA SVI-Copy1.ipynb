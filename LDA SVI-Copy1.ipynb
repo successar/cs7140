{
 "cells": [
  {
   "cell_type": "code",
   "execution_count": 1,
   "metadata": {},
   "outputs": [],
   "source": [
    "%load_ext autoreload\n",
    "%autoreload 2"
   ]
  },
  {
   "cell_type": "code",
   "execution_count": 2,
   "metadata": {},
   "outputs": [],
   "source": [
    "from sklearn.datasets import fetch_20newsgroups\n",
    "from time import time"
   ]
  },
  {
   "cell_type": "code",
   "execution_count": 3,
   "metadata": {},
   "outputs": [],
   "source": [
    "n_words = 2000\n",
    "n_topics = 10"
   ]
  },
  {
   "cell_type": "code",
   "execution_count": 4,
   "metadata": {},
   "outputs": [
    {
     "name": "stdout",
     "output_type": "stream",
     "text": [
      "Loading dataset...\n",
      "done in 1.982s.\n"
     ]
    }
   ],
   "source": [
    "print(\"Loading dataset...\")\n",
    "t0 = time()\n",
    "dataset = fetch_20newsgroups(shuffle=True, random_state=1, #subset='train',\n",
    "                             remove=('headers', 'footers', 'quotes'))\n",
    "\n",
    "data_samples = dataset.data[:2000]\n",
    "n_docs = len(data_samples)\n",
    "\n",
    "dataset_test = fetch_20newsgroups(shuffle=True, random_state=1, subset='test',\n",
    "                             remove=('headers', 'footers', 'quotes'))\n",
    "\n",
    "data_test = dataset_test.data\n",
    "n_docs_test = len(data_test)\n",
    "\n",
    "print(\"done in %0.3fs.\" % (time() - t0))"
   ]
  },
  {
   "cell_type": "markdown",
   "metadata": {},
   "source": [
    "Vectorize documents and get Count Matrix\n",
    "----------------------------------------------"
   ]
  },
  {
   "cell_type": "code",
   "execution_count": 5,
   "metadata": {},
   "outputs": [],
   "source": [
    "from sklearn.feature_extraction.text import CountVectorizer"
   ]
  },
  {
   "cell_type": "code",
   "execution_count": 6,
   "metadata": {},
   "outputs": [
    {
     "name": "stdout",
     "output_type": "stream",
     "text": [
      "Extracting tf features for LDA...\n",
      "done in 0.346s.\n"
     ]
    }
   ],
   "source": [
    "# Use tf (raw term count) features for LDA.\n",
    "print(\"Extracting tf features for LDA...\")\n",
    "tf_vectorizer = CountVectorizer(max_df=0.95, min_df=2,\n",
    "                                max_features=n_words,\n",
    "                                stop_words='english')\n",
    "t0 = time()\n",
    "tf = tf_vectorizer.fit_transform(data_samples)\n",
    "print(\"done in %0.3fs.\" % (time() - t0))"
   ]
  },
  {
   "cell_type": "code",
   "execution_count": 7,
   "metadata": {},
   "outputs": [],
   "source": [
    "tf_test = tf_vectorizer.fit_transform(data_test)"
   ]
  },
  {
   "cell_type": "code",
   "execution_count": 8,
   "metadata": {},
   "outputs": [],
   "source": [
    "import numpy as np\n",
    "from scipy.sparse import find"
   ]
  },
  {
   "cell_type": "code",
   "execution_count": 9,
   "metadata": {},
   "outputs": [],
   "source": [
    "(I, J, K) = find(tf)\n",
    "\n",
    "docs_idxs = [[] for _ in range(n_docs)]\n",
    "docs_cnts = [[] for _ in range(n_docs)]\n",
    "\n",
    "for r, c, n in zip(I, J, K) :\n",
    "    docs_idxs[r].append(c)\n",
    "    docs_cnts[r].append(n)"
   ]
  },
  {
   "cell_type": "code",
   "execution_count": 10,
   "metadata": {},
   "outputs": [],
   "source": [
    "# (I, J, K) = find(tf_test)\n",
    "\n",
    "# docs_idxs_test = [[] for _ in range(n_docs_test)]\n",
    "# docs_cnts_test = [[] for _ in range(n_docs_test)]\n",
    "\n",
    "# for r, c, n in zip(I, J, K) :\n",
    "#     docs_idxs_test[r].append(c)\n",
    "#     docs_cnts_test[r].append(n)"
   ]
  },
  {
   "cell_type": "markdown",
   "metadata": {},
   "source": [
    "Initialize Parameters\n",
    "------------------------"
   ]
  },
  {
   "cell_type": "code",
   "execution_count": 10,
   "metadata": {},
   "outputs": [],
   "source": [
    "alpha = 0.1\n",
    "beta = 0.01\n",
    "offset = 2\n",
    "kappa = 0.75"
   ]
  },
  {
   "cell_type": "code",
   "execution_count": 11,
   "metadata": {},
   "outputs": [],
   "source": [
    "from tqdm import tqdm_notebook\n",
    "from scipy.special import psi"
   ]
  },
  {
   "cell_type": "code",
   "execution_count": 12,
   "metadata": {},
   "outputs": [],
   "source": [
    "from scipy.special import gammaln, logsumexp\n",
    "\n",
    "def perp(lambda_zt, didxs, dcnts) :\n",
    "    score = 0\n",
    "    n_docs = len(didxs)\n",
    "    lambda_hat, gamma = update_doc(range(n_docs), lambda_zt, didxs, dcnts)\n",
    "    \n",
    "    lambda_psi = psi(lambda_zt) - psi(lambda_zt.sum(1))[:, None]\n",
    "    gamma_psi = psi(gamma) - psi(gamma.sum(1))[:, None]\n",
    "\n",
    "    Nd = 0\n",
    "    for j, d in enumerate(range(n_docs)) :\n",
    "        words = didxs[d]\n",
    "        cnts = dcnts[d]\n",
    "        \n",
    "        Nd += sum(cnts)\n",
    "        \n",
    "        e_theta = gamma_psi[j]\n",
    "        e_beta =  lambda_psi[:, words]\n",
    "\n",
    "        topic_assign = e_theta[:, None] + e_beta \n",
    "        topic_assign = logsumexp(topic_assign, axis=0)\n",
    "        score += np.dot(topic_assign , cnts)\n",
    "       \n",
    "    score += np.sum((alpha - gamma) * gamma_psi)\n",
    "    score += np.sum(gammaln(gamma) - gammaln(alpha))\n",
    "    score += np.sum(gammaln(alpha * n_topics) - gammaln(gamma.sum(1))[:, np.newaxis])\n",
    "    \n",
    "    score += np.sum((beta - lambda_zt) * lambda_psi)\n",
    "    score += np.sum(gammaln(lambda_zt) - gammaln(beta))\n",
    "    score += np.sum(gammaln(beta * n_topics) - gammaln(lambda_zt.sum(1))[:, np.newaxis])\n",
    "    \n",
    "    score /= Nd\n",
    "    return np.exp(-score)"
   ]
  },
  {
   "cell_type": "code",
   "execution_count": 13,
   "metadata": {},
   "outputs": [],
   "source": [
    "def update_doc(docs, lambda_zt, docs_idxs, docs_cnts) :\n",
    "    lambda_psi = np.exp(psi(lambda_zt) - psi(lambda_zt.sum(1))[:, None])\n",
    "    \n",
    "    lambda_hat = np.zeros((n_topics, n_words))\n",
    "    gamma_ret = np.zeros((len(docs), n_topics))\n",
    "    for j, d in enumerate(docs) :\n",
    "        words = docs_idxs[d]\n",
    "        cnts = docs_cnts[d]\n",
    "        \n",
    "        topic_assign = np.zeros((n_topics, len(words)))\n",
    "        gamma = np.random.gamma(100., 1/100., (n_topics))\n",
    "        e_beta =  lambda_psi[:, words] #(K, N_d)\n",
    "\n",
    "        for i in range(100) :  \n",
    "            prev_gamma = gamma\n",
    "            e_theta = np.exp(psi(gamma) - psi(gamma.sum()))\n",
    "\n",
    "            topic_assign = e_theta[:, None] * e_beta \n",
    "            topic_assign = topic_assign / topic_assign.sum(0)\n",
    "\n",
    "            gamma = alpha + np.dot(topic_assign , cnts)\n",
    "            if np.mean(np.abs(prev_gamma - gamma)) < 0.001 :\n",
    "                break\n",
    "                \n",
    "        gamma_ret[j, :] = gamma\n",
    "\n",
    "        lambda_hat[:, words] += (topic_assign * cnts)\n",
    "\n",
    "    return lambda_hat, gamma_ret"
   ]
  },
  {
   "cell_type": "code",
   "execution_count": 14,
   "metadata": {},
   "outputs": [],
   "source": [
    "def update_lambda_zt(docs, t, lambda_zt) :\n",
    "    lr_t = (t + offset) ** (-kappa)\n",
    "    lambda_hat, gamma_ret = update_doc(docs, lambda_zt, docs_idxs, docs_cnts) \n",
    "    lambda_hat = lambda_hat * n_docs/len(docs) + beta\n",
    "    lambda_zt = (1 - lr_t) * (lambda_zt) + lr_t * (lambda_hat)\n",
    "    \n",
    "    return lambda_zt\n",
    "\n",
    "def run_SVI(n_iters, bsize) :    \n",
    "    t = 0\n",
    "    lambda_zt = np.random.gamma(100., 1/100., (n_topics, n_words))\n",
    "    \n",
    "    perps = np.zeros(n_iters)\n",
    "    \n",
    "    for i in tqdm_notebook(range(n_iters)) :\n",
    "        for d in range(0, n_docs, bsize) :\n",
    "            batch = range(d, min(d+bsize, n_docs))\n",
    "            lambda_zt = update_lambda_zt(batch, t, lambda_zt)\n",
    "            t += 1\n",
    "        #perps[i] = perp(lambda_zt, docs_idxs_test, docs_cnts_test)\n",
    "            \n",
    "    return lambda_zt, perps"
   ]
  },
  {
   "cell_type": "code",
   "execution_count": 15,
   "metadata": {},
   "outputs": [
    {
     "data": {
      "application/vnd.jupyter.widget-view+json": {
       "model_id": "6bc25abd196e473f91316a35e1d20564",
       "version_major": 2,
       "version_minor": 0
      },
      "text/plain": [
       "HBox(children=(IntProgress(value=0), HTML(value='')))"
      ]
     },
     "metadata": {},
     "output_type": "display_data"
    },
    {
     "name": "stdout",
     "output_type": "stream",
     "text": [
      "\n"
     ]
    }
   ],
   "source": [
    "lambda_zt, perps = run_SVI(100, 32)"
   ]
  },
  {
   "cell_type": "code",
   "execution_count": 20,
   "metadata": {},
   "outputs": [
    {
     "data": {
      "image/png": "[encoded data removed]",
      "text/plain": [
       "<Figure size 432x288 with 1 Axes>"
      ]
     },
     "metadata": {},
     "output_type": "display_data"
    }
   ],
   "source": [
    "%matplotlib inline\n",
    "import matplotlib.pyplot as plt\n",
    "plt.plot(perps)\n",
    "plt.show()"
   ]
  },
  {
   "cell_type": "code",
   "execution_count": 16,
   "metadata": {},
   "outputs": [],
   "source": [
    "def get_top_words(word_list, phi) :\n",
    "    max_args = np.argsort(phi, axis=1)[:, -10:] \n",
    "    for t in range(n_topics) :\n",
    "        print([word_list[i] for i in max_args[t]])"
   ]
  },
  {
   "cell_type": "code",
   "execution_count": 17,
   "metadata": {},
   "outputs": [
    {
     "name": "stdout",
     "output_type": "stream",
     "text": [
      "['kuwait', 'wondering', 'washington', 'likely', 'version', 'having', 'cause', 'press', 'thousand', 'products']\n",
      "['launch', 'director', 'gov', 'peter', 'noticed', 'weapons', 'directory', 'tom', 'says', 'years']\n",
      "['correctly', 'natural', 'year', 'selling', 'carry', 'earth', 'gas', 'caused', 'document', 'drug']\n",
      "['xfree86', 'includes', 'automatic', 'followed', 'sounds', '06', 'noticed', '00', 'controller', '56']\n",
      "['tom', 'likely', 'se', 'doing', 'doubt', 'thy', 'kuwait', 'keyboard', 'gopher', 'peter']\n",
      "['video', 'personally', 'functions', 'sexual', 'final', 'comp', 'greek', 'widgets', 'majority', 'electronics']\n",
      "['oh', 'claim', 'applied', 'gun', 'cc', 'joseph', 'peter', 'hole', 'position', 'james']\n",
      "['written', 'hold', 'story', 'anti', 'happens', 'store', 'll', 'ed', 'father', 'criminal']\n",
      "['domain', 'thy', 'killing', 'lcs', 'greece', 'likely', 'keyboard', 'using', 'rom', 'doubt']\n",
      "['1000', 'policy', '14', '12', '10', '1990', 'terminal', '09', 'st', '06']\n"
     ]
    }
   ],
   "source": [
    "word_list = tf_vectorizer.get_feature_names()\n",
    "get_top_words(word_list, lambda_zt)"
   ]
  },
  {
   "cell_type": "code",
   "execution_count": null,
   "metadata": {},
   "outputs": [],
   "source": []
  }
 ],
 "metadata": {
  "kernelspec": {
   "display_name": "Python 3",
   "language": "python",
   "name": "python3"
  },
  "language_info": {
   "codemirror_mode": {
    "name": "ipython",
    "version": 3
   },
   "file_extension": ".py",
   "mimetype": "text/x-python",
   "name": "python",
   "nbconvert_exporter": "python",
   "pygments_lexer": "ipython3",
   "version": "3.6.5"
  }
 },
 "nbformat": 4,
 "nbformat_minor": 2
}
