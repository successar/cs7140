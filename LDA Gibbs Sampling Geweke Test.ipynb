{
 "cells": [
  {
   "cell_type": "code",
   "execution_count": 1,
   "metadata": {},
   "outputs": [],
   "source": [
    "n_docs = 30\n",
    "n_words = 20\n",
    "n_topics = 4\n",
    "\n",
    "N = 25\n",
    "\n",
    "alpha = 0.1\n",
    "eta = 0.1\n",
    "import numpy as np"
   ]
  },
  {
   "cell_type": "code",
   "execution_count": 2,
   "metadata": {},
   "outputs": [],
   "source": [
    "def sample_params() :\n",
    "    theta = np.zeros((n_docs, n_topics))\n",
    "    for d in range(n_docs) :\n",
    "        theta[d] = np.random.dirichlet([alpha]*n_topics)\n",
    "    beta = np.zeros((n_topics, n_words))\n",
    "    for k in range(n_topics) :\n",
    "        beta[k] = np.random.dirichlet([eta]*n_words)\n",
    "        \n",
    "    return theta, beta"
   ]
  },
  {
   "cell_type": "code",
   "execution_count": 3,
   "metadata": {},
   "outputs": [],
   "source": [
    "def sample_data(theta, beta) :\n",
    "    docs = []\n",
    "    for d in range(n_docs) :\n",
    "        doc = []\n",
    "        for n in range(N) :\n",
    "            zdn = np.random.choice(range(n_topics), size=1, p=theta[d])[0]\n",
    "            wdn = np.random.choice(range(n_words), size=1, p=beta[zdn])[0]\n",
    "            doc.append(wdn)\n",
    "        docs.append(doc)\n",
    "        \n",
    "    return docs"
   ]
  },
  {
   "cell_type": "code",
   "execution_count": 4,
   "metadata": {},
   "outputs": [],
   "source": [
    "theta, beta = sample_params()\n",
    "docs = sample_data(theta, beta)"
   ]
  },
  {
   "cell_type": "markdown",
   "metadata": {},
   "source": [
    "Initialize Parameters\n",
    "------------------------"
   ]
  },
  {
   "cell_type": "code",
   "execution_count": 5,
   "metadata": {},
   "outputs": [],
   "source": [
    "from tqdm import tqdm_notebook,tqdm"
   ]
  },
  {
   "cell_type": "code",
   "execution_count": 6,
   "metadata": {},
   "outputs": [],
   "source": [
    "def assign_topic(d, w, i) :\n",
    "    zc = topic_assign[d][i]\n",
    "        \n",
    "    n_dz[d, zc] -= 1\n",
    "    n_d[d] -= 1\n",
    "    n_zt[zc, w] -= 1\n",
    "    n_z[zc] -= 1\n",
    "            \n",
    "    a = (n_zt[:, w] + eta) / (n_z + eta * n_words)\n",
    "    b = (n_dz[d, :] + alpha) / (n_d[d] + n_topics * alpha)\n",
    "\n",
    "    pz = a*b\n",
    "    pz /= sum(pz)\n",
    "    \n",
    "    z = np.random.choice(range(n_topics), p=pz)\n",
    "    \n",
    "    n_dz[d, z] += 1\n",
    "    n_d[d] += 1\n",
    "    n_zt[z, w] += 1\n",
    "    n_z[z] += 1\n",
    "    topic_assign[d][i] = z"
   ]
  },
  {
   "cell_type": "code",
   "execution_count": 7,
   "metadata": {},
   "outputs": [],
   "source": [
    "def run_gibbs(n_iters, sample=80) :\n",
    "    perps = []\n",
    "    phis = []\n",
    "    thetas = []\n",
    "    for i in range(n_iters) :\n",
    "        for doc in range(n_docs) :\n",
    "            for i, word in enumerate(docs[doc]) :\n",
    "                assign_topic(doc, word, i)\n",
    "                \n",
    "        phi = (n_zt + eta) / (n_zt.sum(1)[:, None] + eta*n_words)\n",
    "        theta = (n_dz + alpha) / (n_dz.sum(1)[:, None] + alpha*n_topics)\n",
    "        if i > sample :\n",
    "            phis.append(phi)\n",
    "            thetas.append(theta)\n",
    "            \n",
    "    phis = np.array(phis)\n",
    "    thetas = np.array(thetas)\n",
    "    \n",
    "    return phis, thetas, perps"
   ]
  },
  {
   "cell_type": "code",
   "execution_count": 8,
   "metadata": {},
   "outputs": [
    {
     "name": "stderr",
     "output_type": "stream",
     "text": [
      "  0%|          | 0/100 [00:00<?, ?it/s]\n"
     ]
    },
    {
     "ename": "KeyboardInterrupt",
     "evalue": "",
     "output_type": "error",
     "traceback": [
      "\u001b[0;31m---------------------------------------------------------------------------\u001b[0m",
      "\u001b[0;31mKeyboardInterrupt\u001b[0m                         Traceback (most recent call last)",
      "\u001b[0;32m<ipython-input-8-9258807b87ad>\u001b[0m in \u001b[0;36m<module>\u001b[0;34m()\u001b[0m\n\u001b[1;32m     22\u001b[0m             \u001b[0mn_zt\u001b[0m\u001b[0;34m[\u001b[0m\u001b[0mz\u001b[0m\u001b[0;34m,\u001b[0m \u001b[0mw\u001b[0m\u001b[0;34m]\u001b[0m \u001b[0;34m+=\u001b[0m \u001b[0;36m1\u001b[0m\u001b[0;34m\u001b[0m\u001b[0m\n\u001b[1;32m     23\u001b[0m             \u001b[0mn_z\u001b[0m\u001b[0;34m[\u001b[0m\u001b[0mz\u001b[0m\u001b[0;34m]\u001b[0m \u001b[0;34m+=\u001b[0m \u001b[0;36m1\u001b[0m\u001b[0;34m\u001b[0m\u001b[0m\n\u001b[0;32m---> 24\u001b[0;31m     \u001b[0mphi_p\u001b[0m\u001b[0;34m,\u001b[0m \u001b[0mtheta_p\u001b[0m\u001b[0;34m,\u001b[0m \u001b[0mperps\u001b[0m \u001b[0;34m=\u001b[0m \u001b[0mrun_gibbs\u001b[0m\u001b[0;34m(\u001b[0m\u001b[0;36m100\u001b[0m\u001b[0;34m)\u001b[0m\u001b[0;34m\u001b[0m\u001b[0m\n\u001b[0m\u001b[1;32m     25\u001b[0m     \u001b[0mt\u001b[0m \u001b[0;34m=\u001b[0m \u001b[0;34m(\u001b[0m\u001b[0;36m1\u001b[0m \u001b[0;34m-\u001b[0m \u001b[0mcdist\u001b[0m\u001b[0;34m(\u001b[0m\u001b[0mtheta\u001b[0m\u001b[0;34m.\u001b[0m\u001b[0mT\u001b[0m\u001b[0;34m,\u001b[0m \u001b[0mtheta_p\u001b[0m\u001b[0;34m.\u001b[0m\u001b[0mT\u001b[0m\u001b[0;34m,\u001b[0m \u001b[0mmetric\u001b[0m\u001b[0;34m=\u001b[0m\u001b[0;34m'correlation'\u001b[0m\u001b[0;34m)\u001b[0m\u001b[0;34m)\u001b[0m\u001b[0;34m.\u001b[0m\u001b[0mmax\u001b[0m\u001b[0;34m(\u001b[0m\u001b[0;36m1\u001b[0m\u001b[0;34m)\u001b[0m\u001b[0;34m.\u001b[0m\u001b[0mmean\u001b[0m\u001b[0;34m(\u001b[0m\u001b[0;34m)\u001b[0m\u001b[0;34m\u001b[0m\u001b[0m\n\u001b[1;32m     26\u001b[0m     \u001b[0mq\u001b[0m \u001b[0;34m=\u001b[0m \u001b[0;34m(\u001b[0m\u001b[0;36m1\u001b[0m \u001b[0;34m-\u001b[0m \u001b[0mcdist\u001b[0m\u001b[0;34m(\u001b[0m\u001b[0mbeta\u001b[0m\u001b[0;34m,\u001b[0m \u001b[0mphi_p\u001b[0m\u001b[0;34m,\u001b[0m \u001b[0mmetric\u001b[0m\u001b[0;34m=\u001b[0m\u001b[0;34m'correlation'\u001b[0m\u001b[0;34m)\u001b[0m\u001b[0;34m)\u001b[0m\u001b[0;34m.\u001b[0m\u001b[0mmax\u001b[0m\u001b[0;34m(\u001b[0m\u001b[0;36m1\u001b[0m\u001b[0;34m)\u001b[0m\u001b[0;34m.\u001b[0m\u001b[0mmean\u001b[0m\u001b[0;34m(\u001b[0m\u001b[0;34m)\u001b[0m\u001b[0;34m\u001b[0m\u001b[0m\n",
      "\u001b[0;32m<ipython-input-7-5a4ce210826c>\u001b[0m in \u001b[0;36mrun_gibbs\u001b[0;34m(n_iters)\u001b[0m\n\u001b[1;32m      4\u001b[0m         \u001b[0;32mfor\u001b[0m \u001b[0mdoc\u001b[0m \u001b[0;32min\u001b[0m \u001b[0mrange\u001b[0m\u001b[0;34m(\u001b[0m\u001b[0mn_docs\u001b[0m\u001b[0;34m)\u001b[0m \u001b[0;34m:\u001b[0m\u001b[0;34m\u001b[0m\u001b[0m\n\u001b[1;32m      5\u001b[0m             \u001b[0;32mfor\u001b[0m \u001b[0mi\u001b[0m\u001b[0;34m,\u001b[0m \u001b[0mword\u001b[0m \u001b[0;32min\u001b[0m \u001b[0menumerate\u001b[0m\u001b[0;34m(\u001b[0m\u001b[0mdocs\u001b[0m\u001b[0;34m[\u001b[0m\u001b[0mdoc\u001b[0m\u001b[0;34m]\u001b[0m\u001b[0;34m)\u001b[0m \u001b[0;34m:\u001b[0m\u001b[0;34m\u001b[0m\u001b[0m\n\u001b[0;32m----> 6\u001b[0;31m                 \u001b[0massign_topic\u001b[0m\u001b[0;34m(\u001b[0m\u001b[0mdoc\u001b[0m\u001b[0;34m,\u001b[0m \u001b[0mword\u001b[0m\u001b[0;34m,\u001b[0m \u001b[0mi\u001b[0m\u001b[0;34m)\u001b[0m\u001b[0;34m\u001b[0m\u001b[0m\n\u001b[0m\u001b[1;32m      7\u001b[0m \u001b[0;34m\u001b[0m\u001b[0m\n\u001b[1;32m      8\u001b[0m         \u001b[0mphi\u001b[0m \u001b[0;34m=\u001b[0m \u001b[0;34m(\u001b[0m\u001b[0mn_zt\u001b[0m \u001b[0;34m+\u001b[0m \u001b[0meta\u001b[0m\u001b[0;34m)\u001b[0m \u001b[0;34m/\u001b[0m \u001b[0;34m(\u001b[0m\u001b[0mn_zt\u001b[0m\u001b[0;34m.\u001b[0m\u001b[0msum\u001b[0m\u001b[0;34m(\u001b[0m\u001b[0;36m1\u001b[0m\u001b[0;34m)\u001b[0m\u001b[0;34m[\u001b[0m\u001b[0;34m:\u001b[0m\u001b[0;34m,\u001b[0m \u001b[0;32mNone\u001b[0m\u001b[0;34m]\u001b[0m \u001b[0;34m+\u001b[0m \u001b[0meta\u001b[0m\u001b[0;34m*\u001b[0m\u001b[0mn_words\u001b[0m\u001b[0;34m)\u001b[0m\u001b[0;34m\u001b[0m\u001b[0m\n",
      "\u001b[0;32m<ipython-input-6-fbbd267bb5b4>\u001b[0m in \u001b[0;36massign_topic\u001b[0;34m(d, w, i)\u001b[0m\n\u001b[1;32m     13\u001b[0m     \u001b[0mpz\u001b[0m \u001b[0;34m/=\u001b[0m \u001b[0msum\u001b[0m\u001b[0;34m(\u001b[0m\u001b[0mpz\u001b[0m\u001b[0;34m)\u001b[0m\u001b[0;34m\u001b[0m\u001b[0m\n\u001b[1;32m     14\u001b[0m \u001b[0;34m\u001b[0m\u001b[0m\n\u001b[0;32m---> 15\u001b[0;31m     \u001b[0mz\u001b[0m \u001b[0;34m=\u001b[0m \u001b[0mnp\u001b[0m\u001b[0;34m.\u001b[0m\u001b[0mrandom\u001b[0m\u001b[0;34m.\u001b[0m\u001b[0mchoice\u001b[0m\u001b[0;34m(\u001b[0m\u001b[0mrange\u001b[0m\u001b[0;34m(\u001b[0m\u001b[0mn_topics\u001b[0m\u001b[0;34m)\u001b[0m\u001b[0;34m,\u001b[0m \u001b[0mp\u001b[0m\u001b[0;34m=\u001b[0m\u001b[0mpz\u001b[0m\u001b[0;34m)\u001b[0m\u001b[0;34m\u001b[0m\u001b[0m\n\u001b[0m\u001b[1;32m     16\u001b[0m \u001b[0;34m\u001b[0m\u001b[0m\n\u001b[1;32m     17\u001b[0m     \u001b[0mn_dz\u001b[0m\u001b[0;34m[\u001b[0m\u001b[0md\u001b[0m\u001b[0;34m,\u001b[0m \u001b[0mz\u001b[0m\u001b[0;34m]\u001b[0m \u001b[0;34m+=\u001b[0m \u001b[0;36m1\u001b[0m\u001b[0;34m\u001b[0m\u001b[0m\n",
      "\u001b[0;31mKeyboardInterrupt\u001b[0m: "
     ]
    }
   ],
   "source": [
    "from scipy.spatial.distance import cdist\n",
    "from scipy.stats import entropy\n",
    "\n",
    "ts = []\n",
    "hs = []\n",
    "qs = []\n",
    "for i in tqdm(range(100)) :\n",
    "    theta, beta = sample_params()\n",
    "    docs = sample_data(theta, beta)\n",
    "    n_dz = np.zeros((n_docs, n_topics))\n",
    "    n_d = np.zeros((n_docs))\n",
    "    n_zt = np.zeros((n_topics, n_words))\n",
    "    n_z = np.zeros((n_topics))\n",
    "    topic_assign = [[0 for _ in range(len(doc))] for doc in docs]\n",
    "\n",
    "    for d in range(n_docs) :\n",
    "        for i, w in enumerate(docs[d]):\n",
    "            z = np.random.randint(n_topics)\n",
    "            topic_assign[d][i] = z\n",
    "            n_dz[d, z] += 1\n",
    "            n_d[d] += 1\n",
    "            n_zt[z, w] += 1\n",
    "            n_z[z] += 1\n",
    "    phi_p, theta_p, perps = run_gibbs(100)\n",
    "    t = (1 - cdist(theta.T, theta_p.T, metric='correlation')).max(1).mean() \n",
    "    q = (1 - cdist(beta, phi_p, metric='correlation')).max(1).mean()\n",
    "    \n",
    "    h = (entropy(np.sort(theta, axis=1).T, np.sort(theta_p, axis=1).T) + \n",
    "         entropy(np.sort(theta_p, axis=1).T, np.sort(theta, axis=1).T)).mean()\n",
    "    ts.append(t)\n",
    "    hs.append(h)\n",
    "    qs.append(q)"
   ]
  },
  {
   "cell_type": "code",
   "execution_count": 13,
   "metadata": {},
   "outputs": [
    {
     "data": {
      "image/png": "[encoded data removed]",
      "text/plain": [
       "<Figure size 432x288 with 3 Axes>"
      ]
     },
     "metadata": {},
     "output_type": "display_data"
    }
   ],
   "source": [
    "import matplotlib.pyplot as plt\n",
    "fig, axes = plt.subplots(1, 3, sharey=True)\n",
    "axes[0].hist(ts, bins=100)\n",
    "axes[1].hist(qs, bins=100)\n",
    "axes[2].hist(hs, bins=100)\n",
    "axes[0].set_ylabel(\"Frequency\")\n",
    "axes[0].set_xlabel(\"Theta Mean-Max \\nCorrelation\")\n",
    "axes[1].set_xlabel(\"Beta Mean-Max \\nCorrelation\")\n",
    "axes[2].set_xlabel(\"Theta \\nKL Divergence\")\n",
    "plt.tight_layout()\n",
    "plt.savefig(\"Geweke.pdf\")\n",
    "plt.show()\n"
   ]
  },
  {
   "cell_type": "code",
   "execution_count": 11,
   "metadata": {},
   "outputs": [
    {
     "data": {
      "image/png": "[encoded data removed]",
      "text/plain": [
       "<Figure size 432x288 with 1 Axes>"
      ]
     },
     "metadata": {},
     "output_type": "display_data"
    }
   ],
   "source": [
    "plt.hist(hs, bins=100)\n",
    "plt.show()"
   ]
  },
  {
   "cell_type": "code",
   "execution_count": null,
   "metadata": {},
   "outputs": [],
   "source": [
    "var = []\n",
    "\n",
    "theta, phi = sample_params()\n",
    "var.append(np.var(theta))\n",
    "\n",
    "for i in tqdm_notebook(range(100)) :  \n",
    "    docs = sample_data(theta, phi)\n",
    "    n_dz = np.zeros((n_docs, n_topics))\n",
    "    n_d = np.zeros((n_docs))\n",
    "    n_zt = np.zeros((n_topics, n_words))\n",
    "    n_z = np.zeros((n_topics))\n",
    "    topic_assign = [[0 for _ in range(len(doc))] for doc in docs]\n",
    "\n",
    "    for d in range(n_docs) :\n",
    "        for i, w in enumerate(docs[d]):\n",
    "            z = np.random.randint(n_topics)\n",
    "            topic_assign[d][i] = z\n",
    "            n_dz[d, z] += 1\n",
    "            n_d[d] += 1\n",
    "            n_zt[z, w] += 1\n",
    "            n_z[z] += 1\n",
    "    phi, theta, perps = run_gibbs(100)\n",
    "    var.append(np.var(theta))"
   ]
  },
  {
   "cell_type": "code",
   "execution_count": null,
   "metadata": {},
   "outputs": [],
   "source": [
    "import matplotlib.pyplot as plt\n",
    "plt.plot(var)\n",
    "plt.show()"
   ]
  },
  {
   "cell_type": "code",
   "execution_count": null,
   "metadata": {},
   "outputs": [],
   "source": []
  }
 ],
 "metadata": {
  "kernelspec": {
   "display_name": "Python 3",
   "language": "python",
   "name": "python3"
  },
  "language_info": {
   "codemirror_mode": {
    "name": "ipython",
    "version": 3
   },
   "file_extension": ".py",
   "mimetype": "text/x-python",
   "name": "python",
   "nbconvert_exporter": "python",
   "pygments_lexer": "ipython3",
   "version": "3.6.5"
  }
 },
 "nbformat": 4,
 "nbformat_minor": 2
}
