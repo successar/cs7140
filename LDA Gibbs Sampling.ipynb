{
 "cells": [
  {
   "cell_type": "code",
   "execution_count": 1,
   "metadata": {},
   "outputs": [],
   "source": [
    "from sklearn.datasets import fetch_20newsgroups\n",
    "from time import time"
   ]
  },
  {
   "cell_type": "code",
   "execution_count": 2,
   "metadata": {},
   "outputs": [],
   "source": [
    "n_samples = 2000\n",
    "n_features = 1000\n",
    "n_topics = 10\n",
    "n_top_words = 20"
   ]
  },
  {
   "cell_type": "code",
   "execution_count": 3,
   "metadata": {},
   "outputs": [
    {
     "name": "stdout",
     "output_type": "stream",
     "text": [
      "Loading dataset...\n",
      "done in 1.213s.\n"
     ]
    }
   ],
   "source": [
    "print(\"Loading dataset...\")\n",
    "t0 = time()\n",
    "dataset = fetch_20newsgroups(shuffle=True, random_state=1,\n",
    "                             remove=('headers', 'footers', 'quotes'))\n",
    "data_samples = dataset.data[:n_samples]\n",
    "print(\"done in %0.3fs.\" % (time() - t0))"
   ]
  },
  {
   "cell_type": "markdown",
   "metadata": {},
   "source": [
    "Vectorize documents and get Count Matrix\n",
    "----------------------------------------------"
   ]
  },
  {
   "cell_type": "code",
   "execution_count": 4,
   "metadata": {},
   "outputs": [],
   "source": [
    "from sklearn.feature_extraction.text import CountVectorizer"
   ]
  },
  {
   "cell_type": "code",
   "execution_count": 5,
   "metadata": {},
   "outputs": [
    {
     "name": "stdout",
     "output_type": "stream",
     "text": [
      "Extracting tf features for LDA...\n",
      "done in 0.308s.\n"
     ]
    }
   ],
   "source": [
    "# Use tf (raw term count) features for LDA.\n",
    "print(\"Extracting tf features for LDA...\")\n",
    "tf_vectorizer = CountVectorizer(max_df=0.95, min_df=2,\n",
    "                                max_features=n_features,\n",
    "                                stop_words='english')\n",
    "t0 = time()\n",
    "tf = tf_vectorizer.fit_transform(data_samples)\n",
    "print(\"done in %0.3fs.\" % (time() - t0))"
   ]
  },
  {
   "cell_type": "code",
   "execution_count": 6,
   "metadata": {},
   "outputs": [],
   "source": [
    "import numpy as np\n",
    "from scipy.sparse import find"
   ]
  },
  {
   "cell_type": "code",
   "execution_count": 7,
   "metadata": {},
   "outputs": [],
   "source": [
    "(I, J, K) = find(tf)\n",
    "\n",
    "docs = [[] for _ in range(n_samples)]\n",
    "for r, c, n in zip(I, J, K) :\n",
    "    docs[r] += [c for i in range(n)]"
   ]
  },
  {
   "cell_type": "markdown",
   "metadata": {},
   "source": [
    "Initialize Counts\n",
    "-------------------"
   ]
  },
  {
   "cell_type": "code",
   "execution_count": 8,
   "metadata": {},
   "outputs": [],
   "source": [
    "n_dz = np.zeros((n_samples, n_topics))\n",
    "n_d = np.zeros((n_samples))\n",
    "n_zt = np.zeros((n_topics, n_features))\n",
    "n_z = np.zeros((n_topics))\n",
    "topic_assign = [[0 for _ in range(len(doc))] for doc in docs]\n",
    "\n",
    "for d in range(n_samples) :\n",
    "    for i, w in enumerate(docs[d]):\n",
    "        z = np.random.randint(n_topics)\n",
    "        topic_assign[d][i] = z\n",
    "        n_dz[d, z] += 1\n",
    "        n_d[d] += 1\n",
    "        n_zt[z, w] += 1\n",
    "        n_z[z] += 1"
   ]
  },
  {
   "cell_type": "markdown",
   "metadata": {},
   "source": [
    "Initialize Parameters\n",
    "------------------------"
   ]
  },
  {
   "cell_type": "code",
   "execution_count": 9,
   "metadata": {},
   "outputs": [],
   "source": [
    "alpha = 0.01\n",
    "beta = 0.01\n",
    "\n",
    "\n",
    "theta = np.zeros((n_samples, n_topics))\n",
    "phi = np.zeros((n_topics, n_features))"
   ]
  },
  {
   "cell_type": "code",
   "execution_count": 10,
   "metadata": {},
   "outputs": [],
   "source": [
    "from tqdm import tqdm_notebook"
   ]
  },
  {
   "cell_type": "code",
   "execution_count": 11,
   "metadata": {},
   "outputs": [],
   "source": [
    "def assign_topic(d, w, i) :\n",
    "    zc = topic_assign[d][i]\n",
    "        \n",
    "    n_dz[d, zc] -= 1\n",
    "    n_d[d] -= 1\n",
    "    n_zt[zc, w] -= 1\n",
    "    n_z[zc] -= 1\n",
    "            \n",
    "    a = (n_zt[:, w] + beta) / (n_z + beta * n_features)\n",
    "    b = (n_dz[d, :] + alpha) / (n_d[d] + n_topics * alpha)\n",
    "\n",
    "    pz = a*b\n",
    "    pz /= sum(pz)\n",
    "    \n",
    "    z = np.random.choice(range(n_topics), p=pz)\n",
    "    \n",
    "    n_dz[d, z] += 1\n",
    "    n_d[d] += 1\n",
    "    n_zt[z, w] += 1\n",
    "    n_z[z] += 1\n",
    "    topic_assign[d][i] = z"
   ]
  },
  {
   "cell_type": "code",
   "execution_count": 12,
   "metadata": {},
   "outputs": [],
   "source": [
    "def run_gibbs(n_iters) :\n",
    "    for i in tqdm_notebook(range(n_iters)) :\n",
    "        for doc in range(n_samples) :\n",
    "            for i, word in enumerate(docs[doc]) :\n",
    "                assign_topic(doc, word, i)\n",
    "                \n",
    "    phi = (n_zt + beta) / (n_zt.sum(1)[:, None] + beta*n_features)\n",
    "    theta = (n_dz + alpha) / (n_dz.sum(1)[:, None] + alpha*n_topics)\n",
    "    return phi, theta"
   ]
  },
  {
   "cell_type": "code",
   "execution_count": 13,
   "metadata": {},
   "outputs": [],
   "source": [
    "def get_top_words(word_list, phi) :\n",
    "    max_args = np.argsort(phi, axis=1)[:, -10:] \n",
    "    for t in range(n_topics) :\n",
    "        print([word_list[i] for i in max_args[t]])"
   ]
  },
  {
   "cell_type": "code",
   "execution_count": 14,
   "metadata": {},
   "outputs": [
    {
     "data": {
      "application/vnd.jupyter.widget-view+json": {
       "model_id": "05ad3ee1c0d44342b3c8fd24ba68ebe0",
       "version_major": 2,
       "version_minor": 0
      },
      "text/html": [
       "<p>Failed to display Jupyter Widget of type <code>HBox</code>.</p>\n",
       "<p>\n",
       "  If you're reading this message in the Jupyter Notebook or JupyterLab Notebook, it may mean\n",
       "  that the widgets JavaScript is still loading. If this message persists, it\n",
       "  likely means that the widgets JavaScript library is either not installed or\n",
       "  not enabled. See the <a href=\"https://ipywidgets.readthedocs.io/en/stable/user_install.html\">Jupyter\n",
       "  Widgets Documentation</a> for setup instructions.\n",
       "</p>\n",
       "<p>\n",
       "  If you're reading this message in another frontend (for example, a static\n",
       "  rendering on GitHub or <a href=\"https://nbviewer.jupyter.org/\">NBViewer</a>),\n",
       "  it may mean that your frontend doesn't currently support widgets.\n",
       "</p>\n"
      ],
      "text/plain": [
       "HBox(children=(IntProgress(value=0), HTML(value='')))"
      ]
     },
     "metadata": {},
     "output_type": "display_data"
    },
    {
     "name": "stdout",
     "output_type": "stream",
     "text": [
      "\n",
      "['way', 'good', 'does', 'know', 'think', 'like', 'don', 'just', 'people', 'god']\n",
      "['don', 'going', 'time', 'did', 'know', 'just', 'went', 'said', 'didn', 'people']\n",
      "['pub', 'software', 'windows', 'ftp', 'send', 'file', 'mail', 'graphics', 'com', 'edu']\n",
      "['section', 'gun', 'states', 'public', 'state', 'use', 'key', 'law', 'israel', 'government']\n",
      "['insurance', 'oil', 'price', 'bike', 'year', '10', '000', '00', 'new', 'car']\n",
      "['say', 'good', 'way', 'time', 'know', 'like', 'just', 'think', 'don', 'people']\n",
      "['does', 've', 'problem', 'don', 'need', 'time', 'just', 'know', 'like', 'use']\n",
      "['lunar', 'surface', 'probe', 'science', 'moon', 'clipper', 'chip', 'key', 'earth', 'space']\n",
      "['bios', 'rom', '16', 'controller', 'card', 'scsi', 'hard', 'drives', 'disk', 'drive']\n",
      "['12', 'play', '13', '18', 'game', '20', 'team', '11', '10', '55']\n"
     ]
    }
   ],
   "source": [
    "phi, theta = run_gibbs(100)\n",
    "word_list = tf_vectorizer.get_feature_names()\n",
    "get_top_words(word_list, phi)"
   ]
  },
  {
   "cell_type": "code",
   "execution_count": null,
   "metadata": {},
   "outputs": [],
   "source": []
  }
 ],
 "metadata": {
  "kernelspec": {
   "display_name": "Python 3",
   "language": "python",
   "name": "python3"
  },
  "language_info": {
   "codemirror_mode": {
    "name": "ipython",
    "version": 3
   },
   "file_extension": ".py",
   "mimetype": "text/x-python",
   "name": "python",
   "nbconvert_exporter": "python",
   "pygments_lexer": "ipython3",
   "version": "3.6.4"
  }
 },
 "nbformat": 4,
 "nbformat_minor": 2
}
